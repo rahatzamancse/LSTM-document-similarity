{
 "cells": [
  {
   "cell_type": "code",
   "execution_count": null,
   "metadata": {
    "id": "WrclQC460et7"
   },
   "outputs": [],
   "source": [
    "import pandas as pd\n",
    "\n",
    "import os\n",
    "\n",
    "from gensim.models import KeyedVectors\n",
    "\n",
    "from nltk.corpus import stopwords\n",
    "from nltk.stem import SnowballStemmer\n",
    "from string import punctuation\n",
    "\n",
    "import csv\n",
    "import codecs\n",
    "import re\n",
    "\n",
    "import numpy as np\n",
    "import tensorflow as tf\n",
    "from tensorflow.keras.layers import Dense, Input, LSTM, Embedding, Dropout, Activation\n",
    "from tensorflow.keras.layers import BatchNormalization\n",
    "from tensorflow.keras.callbacks import EarlyStopping, ModelCheckpoint\n",
    "\n",
    "from sklearn.model_selection import train_test_split\n",
    "from sklearn.metrics import confusion_matrix, recall_score, precision_score, \\\n",
    "          accuracy_score, fbeta_score, f1_score, \\\n",
    "          roc_auc_score, average_precision_score, \\\n",
    "          log_loss, PrecisionRecallDisplay, RocCurveDisplay\n",
    "\n",
    "from scikitplot.metrics import plot_roc\n",
    "\n",
    "import seaborn as sns\n",
    "from pretty_confusion_matrix import pp_matrix\n",
    "from pretty_confusion_matrix import pp_matrix_from_data\n",
    "\n",
    "\n",
    "from tqdm import tqdm"
   ]
  },
  {
   "cell_type": "code",
   "execution_count": null,
   "metadata": {
    "id": "Wfkj_0JI1MF3"
   },
   "outputs": [],
   "source": [
    "NOTEBOOK_HOME = \".\"\n",
    "DATA_DIR = NOTEBOOK_HOME + \"/data/quora-question-pairs\""
   ]
  },
  {
   "cell_type": "code",
   "execution_count": null,
   "metadata": {
    "id": "-Cswg3_71Aqj"
   },
   "outputs": [],
   "source": [
    "word2vec = KeyedVectors.load_word2vec_format(NOTEBOOK_HOME + '/model-params/GoogleNews-vectors-negative300.bin', binary=True)"
   ]
  },
  {
   "cell_type": "code",
   "execution_count": null,
   "metadata": {
    "id": "_hBtNSRc1CNY"
   },
   "outputs": [],
   "source": [
    "def text_to_wordlist(text):\n",
    "    text = \" \".join([w for w in text.lower().split() if not w in set(stopwords.words(\"english\"))])\n",
    "    random_list = {\n",
    "        r\"[^A-Za-z0-9^,!.\\/'+-=]\": \" \",\n",
    "        r\"what's\": \"what is \",\n",
    "        r\"\\'s\": \" \",\n",
    "        r\"\\'ve\": \" have \",\n",
    "        r\"can't\": \"cannot \",\n",
    "        r\"n't\":\" not \",\n",
    "        r\"i'm\":\"i am \",\n",
    "        r\"\\'re\": \" are \",\n",
    "        r\"\\'d\": \" would \",\n",
    "        r\"\\'ll\": \" will \",\n",
    "        r\",\": \" \",\n",
    "        r\"\\.\": \" \",\n",
    "        r\"!\": \" ! \",\n",
    "        r\"\\/\": \" \",\n",
    "        r\"\\^\": \" ^ \",\n",
    "        r\"\\+\": \" + \",\n",
    "        r\"\\-\": \" - \",\n",
    "        r\"\\=\": \" = \",\n",
    "        r\"'\": \" \",\n",
    "        r\"(\\d+)(k)\": r\"\\g<1>000\",\n",
    "        r\":\": \" : \",\n",
    "        r\" e g \": \" eg \",\n",
    "        r\" b g \": \" bg \",\n",
    "        r\" u s \": \" american \",\n",
    "        r\"\\0s\": \"0\",\n",
    "        r\" 9 11 \": \"911\",\n",
    "        r\"e - mail\": \"email\",\n",
    "        r\"j k\": \"jk\",\n",
    "        r\"\\s{2,}\": \" \"\n",
    "    }\n",
    "    \n",
    "    for i, v in random_list.items():\n",
    "        text = re.sub(i, v, text)\n",
    "    \n",
    "    stemmer = SnowballStemmer('english')\n",
    "    return \" \".join([stemmer.stem(word) for word in text.split()])\n"
   ]
  },
  {
   "cell_type": "code",
   "execution_count": null,
   "metadata": {
    "id": "7OiLmttH9Jtk"
   },
   "outputs": [],
   "source": [
    "PREPROCESSED_DIR = NOTEBOOK_HOME + \"/data/quora-question-pairs-preprocessed\"\n",
    "PREPROCESS_DATASET = False\n",
    "\n",
    "if PREPROCESS_DATASET:\n",
    "  texts_1 = []\n",
    "  texts_2 = []\n",
    "  labels = []\n",
    "  with codecs.open(DATA_DIR+\"/train.csv\", encoding='utf-8') as f:\n",
    "      reader = csv.reader(f, delimiter=',')\n",
    "      header = next(reader)\n",
    "      for values in tqdm(reader):\n",
    "          texts_1.append(text_to_wordlist(values[3]))\n",
    "          texts_2.append(text_to_wordlist(values[4]))\n",
    "          labels.append(int(values[5]))\n",
    "  print('Found %s texts in train.csv' % len(texts_1))\n",
    "\n",
    "  if not os.path.exists(PREPROCESSED_DIR):\n",
    "    os.mkdir(PREPROCESSED_DIR)\n",
    "\n",
    "  pd.DataFrame({\"texts_1\": texts_1, \"texts_2\": texts_2, \"labels\": labels}).dropna().to_csv(PREPROCESSED_DIR + \"/preprocessed_train.csv\")\n",
    "  \n",
    "\n",
    "train_df = pd.read_csv(PREPROCESSED_DIR + \"/preprocessed_train.csv\").dropna()\n",
    "texts_1 = train_df[\"texts_1\"].tolist()\n",
    "texts_2 = train_df[\"texts_2\"].tolist()\n",
    "labels = train_df[\"labels\"].tolist()"
   ]
  },
  {
   "cell_type": "code",
   "execution_count": null,
   "metadata": {
    "id": "qX1QjIJ29K_Y"
   },
   "outputs": [],
   "source": [
    "TEST = False\n",
    "if TEST:\n",
    "  if PREPROCESS_DATASET:\n",
    "    test_texts_1 = []\n",
    "    test_texts_2 = []\n",
    "    test_ids = []\n",
    "    with codecs.open(DATA_DIR+\"/test.csv\", encoding='utf-8') as f:\n",
    "        reader = csv.reader(f, delimiter=',')\n",
    "        header = next(reader)\n",
    "        for values in tqdm(reader):\n",
    "            test_texts_1.append(text_to_wordlist(values[1]))\n",
    "            test_texts_2.append(text_to_wordlist(values[2]))\n",
    "            test_ids.append(values[0])\n",
    "    print('Found %s texts in test.csv' % len(test_texts_1))\n",
    "    \n",
    "    if not os.path.exists(PREPROCESSED_DIR):\n",
    "      os.mkdir(PREPROCESSED_DIR)\n",
    "  \n",
    "    pd.DataFrame({\"texts_1\": test_texts_1, \"texts_2\": test_texts_1, \"test_ids\": test_ids}).dropna().to_csv(PREPROCESSED_DIR + \"/preprocessed_test.csv\")\n",
    "  \n",
    "  test_df = pd.read_csv(PREPROCESSED_DIR + \"/preprocessed_test.csv\").dropna()\n",
    "  test_texts_1 = test_df[\"texts_1\"].tolist()\n",
    "  test_texts_2 = test_df[\"texts_2\"].tolist()\n",
    "  test_ids = test_df[\"test_ids\"].tolist()\n"
   ]
  },
  {
   "cell_type": "code",
   "execution_count": null,
   "metadata": {
    "id": "PgFLDoIVPm0V"
   },
   "outputs": [],
   "source": [
    "train_texts_1, test_texts_1, train_texts_2, test_texts_2, train_labels, test_labels = train_test_split(texts_1, texts_2, labels, test_size=0.25)"
   ]
  },
  {
   "cell_type": "code",
   "execution_count": null,
   "metadata": {
    "id": "B2spsWStJQXA"
   },
   "outputs": [],
   "source": [
    "def ngram_cosine_similarity(doc1, doc2):\n",
    "  if not doc1 or doc1 is np.nan: return 0\n",
    "  if not doc2: return 0\n",
    "  doc1_vecs = []\n",
    "  for word in doc1.split():\n",
    "    if word in word2vec.vocab:\n",
    "      doc1_vecs.append(word2vec.get_vector(word))\n",
    "  doc2_vecs = []\n",
    "  for word in doc2.split():\n",
    "    if word in word2vec.vocab:\n",
    "      doc2_vecs.append(word2vec.get_vector(word))\n",
    "  if not doc1_vecs:\n",
    "    return 0\n",
    "  if not doc2_vecs:\n",
    "    return 0\n",
    "  \n",
    "  doc1_centroid = np.mean(doc1_vecs, axis=0)\n",
    "  doc2_centroid = np.mean(doc2_vecs, axis=0)\n",
    "\n",
    "  return np.dot(doc1_centroid, doc2_centroid) / (np.sqrt(np.dot(doc1_centroid, doc1_centroid)) * np.sqrt(np.dot(doc2_centroid, doc2_centroid)))\n",
    "\n",
    "def get_all_cosine_similarities(doc1, doc2):\n",
    "  res = []\n",
    "  for text1, text2 in zip(doc1, doc2):\n",
    "    try:\n",
    "      res.append(ngram_cosine_similarity(text1, text2))\n",
    "    except Exception as e:\n",
    "      print(e)\n",
    "      print(text1, text2)\n",
    "      break\n",
    "      print(\"hllo\")\n",
    "  return res"
   ]
  },
  {
   "cell_type": "code",
   "execution_count": null,
   "metadata": {
    "colab": {
     "base_uri": "https://localhost:8080/",
     "height": 205
    },
    "id": "y1zx-mW0JUSu",
    "outputId": "581e078f-2d4c-4c05-abc4-ff30eeb83e9f"
   },
   "outputs": [
    {
     "data": {
      "text/html": [
       "\n",
       "  <div id=\"df-f82e0392-1259-41a3-b693-7c13c3c3e54e\">\n",
       "    <div class=\"colab-df-container\">\n",
       "      <div>\n",
       "<style scoped>\n",
       "    .dataframe tbody tr th:only-of-type {\n",
       "        vertical-align: middle;\n",
       "    }\n",
       "\n",
       "    .dataframe tbody tr th {\n",
       "        vertical-align: top;\n",
       "    }\n",
       "\n",
       "    .dataframe thead th {\n",
       "        text-align: right;\n",
       "    }\n",
       "</style>\n",
       "<table border=\"1\" class=\"dataframe\">\n",
       "  <thead>\n",
       "    <tr style=\"text-align: right;\">\n",
       "      <th></th>\n",
       "      <th>texts_1</th>\n",
       "      <th>texts_2</th>\n",
       "      <th>similarity</th>\n",
       "    </tr>\n",
       "  </thead>\n",
       "  <tbody>\n",
       "    <tr>\n",
       "      <th>0</th>\n",
       "      <td>what is the step by step guide to invest in sh...</td>\n",
       "      <td>what is the step by step guide to invest in sh...</td>\n",
       "      <td>0.954794</td>\n",
       "    </tr>\n",
       "    <tr>\n",
       "      <th>1</th>\n",
       "      <td>what is the story of kohinoor koh - i - noor d...</td>\n",
       "      <td>what would happen if the indian government sto...</td>\n",
       "      <td>0.808256</td>\n",
       "    </tr>\n",
       "    <tr>\n",
       "      <th>2</th>\n",
       "      <td>how can i increase the speed of my internet co...</td>\n",
       "      <td>how can internet speed be increased by hacking...</td>\n",
       "      <td>0.798543</td>\n",
       "    </tr>\n",
       "    <tr>\n",
       "      <th>3</th>\n",
       "      <td>why am i mentally very lonely how can i solve it</td>\n",
       "      <td>find the remainder when math 23 ^ 24 math is d...</td>\n",
       "      <td>0.508553</td>\n",
       "    </tr>\n",
       "    <tr>\n",
       "      <th>4</th>\n",
       "      <td>which one dissolve in water quikly sugar salt ...</td>\n",
       "      <td>which fish would survive in salt water</td>\n",
       "      <td>0.661036</td>\n",
       "    </tr>\n",
       "  </tbody>\n",
       "</table>\n",
       "</div>\n",
       "      <button class=\"colab-df-convert\" onclick=\"convertToInteractive('df-f82e0392-1259-41a3-b693-7c13c3c3e54e')\"\n",
       "              title=\"Convert this dataframe to an interactive table.\"\n",
       "              style=\"display:none;\">\n",
       "        \n",
       "  <svg xmlns=\"http://www.w3.org/2000/svg\" height=\"24px\"viewBox=\"0 0 24 24\"\n",
       "       width=\"24px\">\n",
       "    <path d=\"M0 0h24v24H0V0z\" fill=\"none\"/>\n",
       "    <path d=\"M18.56 5.44l.94 2.06.94-2.06 2.06-.94-2.06-.94-.94-2.06-.94 2.06-2.06.94zm-11 1L8.5 8.5l.94-2.06 2.06-.94-2.06-.94L8.5 2.5l-.94 2.06-2.06.94zm10 10l.94 2.06.94-2.06 2.06-.94-2.06-.94-.94-2.06-.94 2.06-2.06.94z\"/><path d=\"M17.41 7.96l-1.37-1.37c-.4-.4-.92-.59-1.43-.59-.52 0-1.04.2-1.43.59L10.3 9.45l-7.72 7.72c-.78.78-.78 2.05 0 2.83L4 21.41c.39.39.9.59 1.41.59.51 0 1.02-.2 1.41-.59l7.78-7.78 2.81-2.81c.8-.78.8-2.07 0-2.86zM5.41 20L4 18.59l7.72-7.72 1.47 1.35L5.41 20z\"/>\n",
       "  </svg>\n",
       "      </button>\n",
       "      \n",
       "  <style>\n",
       "    .colab-df-container {\n",
       "      display:flex;\n",
       "      flex-wrap:wrap;\n",
       "      gap: 12px;\n",
       "    }\n",
       "\n",
       "    .colab-df-convert {\n",
       "      background-color: #E8F0FE;\n",
       "      border: none;\n",
       "      border-radius: 50%;\n",
       "      cursor: pointer;\n",
       "      display: none;\n",
       "      fill: #1967D2;\n",
       "      height: 32px;\n",
       "      padding: 0 0 0 0;\n",
       "      width: 32px;\n",
       "    }\n",
       "\n",
       "    .colab-df-convert:hover {\n",
       "      background-color: #E2EBFA;\n",
       "      box-shadow: 0px 1px 2px rgba(60, 64, 67, 0.3), 0px 1px 3px 1px rgba(60, 64, 67, 0.15);\n",
       "      fill: #174EA6;\n",
       "    }\n",
       "\n",
       "    [theme=dark] .colab-df-convert {\n",
       "      background-color: #3B4455;\n",
       "      fill: #D2E3FC;\n",
       "    }\n",
       "\n",
       "    [theme=dark] .colab-df-convert:hover {\n",
       "      background-color: #434B5C;\n",
       "      box-shadow: 0px 1px 3px 1px rgba(0, 0, 0, 0.15);\n",
       "      filter: drop-shadow(0px 1px 2px rgba(0, 0, 0, 0.3));\n",
       "      fill: #FFFFFF;\n",
       "    }\n",
       "  </style>\n",
       "\n",
       "      <script>\n",
       "        const buttonEl =\n",
       "          document.querySelector('#df-f82e0392-1259-41a3-b693-7c13c3c3e54e button.colab-df-convert');\n",
       "        buttonEl.style.display =\n",
       "          google.colab.kernel.accessAllowed ? 'block' : 'none';\n",
       "\n",
       "        async function convertToInteractive(key) {\n",
       "          const element = document.querySelector('#df-f82e0392-1259-41a3-b693-7c13c3c3e54e');\n",
       "          const dataTable =\n",
       "            await google.colab.kernel.invokeFunction('convertToInteractive',\n",
       "                                                     [key], {});\n",
       "          if (!dataTable) return;\n",
       "\n",
       "          const docLinkHtml = 'Like what you see? Visit the ' +\n",
       "            '<a target=\"_blank\" href=https://colab.research.google.com/notebooks/data_table.ipynb>data table notebook</a>'\n",
       "            + ' to learn more about interactive tables.';\n",
       "          element.innerHTML = '';\n",
       "          dataTable['output_type'] = 'display_data';\n",
       "          await google.colab.output.renderOutput(dataTable, element);\n",
       "          const docLink = document.createElement('div');\n",
       "          docLink.innerHTML = docLinkHtml;\n",
       "          element.appendChild(docLink);\n",
       "        }\n",
       "      </script>\n",
       "    </div>\n",
       "  </div>\n",
       "  "
      ],
      "text/plain": [
       "                                             texts_1  \\\n",
       "0  what is the step by step guide to invest in sh...   \n",
       "1  what is the story of kohinoor koh - i - noor d...   \n",
       "2  how can i increase the speed of my internet co...   \n",
       "3  why am i mentally very lonely how can i solve it    \n",
       "4  which one dissolve in water quikly sugar salt ...   \n",
       "\n",
       "                                             texts_2  similarity  \n",
       "0  what is the step by step guide to invest in sh...    0.954794  \n",
       "1  what would happen if the indian government sto...    0.808256  \n",
       "2  how can internet speed be increased by hacking...    0.798543  \n",
       "3  find the remainder when math 23 ^ 24 math is d...    0.508553  \n",
       "4            which fish would survive in salt water     0.661036  "
      ]
     },
     "execution_count": 13,
     "metadata": {},
     "output_type": "execute_result"
    }
   ],
   "source": [
    "preds = pd.DataFrame({\"texts_1\": texts_1[:5], \"texts_2\": texts_2[:5], \"similarity\": get_all_cosine_similarities(texts_1[:5], texts_2[:5])})\n",
    "preds"
   ]
  },
  {
   "cell_type": "code",
   "execution_count": null,
   "metadata": {
    "id": "fPfx3WKJJmvE"
   },
   "outputs": [],
   "source": [
    "preds = np.array(get_all_cosine_similarities(test_texts_1, test_texts_2), dtype=float)"
   ]
  },
  {
   "cell_type": "code",
   "execution_count": null,
   "metadata": {
    "colab": {
     "base_uri": "https://localhost:8080/",
     "height": 656
    },
    "id": "QZWUfEVJROqC",
    "outputId": "3006ac4a-c1b9-41a5-c00d-b0e6b05c5abf"
   },
   "outputs": [
    {
     "data": {
      "image/png": "[encoded data removed]",
      "text/plain": [
       "<Figure size 648x648 with 1 Axes>"
      ]
     },
     "metadata": {
      "needs_background": "light"
     },
     "output_type": "display_data"
    }
   ],
   "source": [
    "pp_matrix_from_data(test_labels, preds > 0.5)"
   ]
  },
  {
   "cell_type": "code",
   "execution_count": null,
   "metadata": {
    "colab": {
     "base_uri": "https://localhost:8080/"
    },
    "id": "buPK6pbRVFut",
    "outputId": "60cf9c77-ee90-4137-b412-677f64d34bf0"
   },
   "outputs": [
    {
     "name": "stdout",
     "output_type": "stream",
     "text": [
      "false positive rate 0.928795729313864\n",
      "false negetive rate 0.0011502862340163715\n",
      "false negetive rate 0.0011502862340163715\n",
      "true negetive rate 0.07120427068613597\n",
      "recall 0.9988497137659836\n",
      "precision 0.386956701971107\n",
      "accuracy 0.4142987177457654\n",
      "f1 0.5578146941946279\n",
      "f2 0.7588548991553601\n",
      "roc_auc 0.7264945350115946\n",
      "avg_precision 0.5351971085119713\n",
      "loss 1.346762930784037\n"
     ]
    }
   ],
   "source": [
    "y_pred_class = preds > 0.5\n",
    "tn, fp, fn, tp = confusion_matrix(test_labels, y_pred_class).ravel()\n",
    "false_positive_rate = fp / (fp + tn)\n",
    "false_negative_rate = fn / (tp + fn)\n",
    "true_negative_rate = tn / (tn + fp)\n",
    "recall = recall_score(test_labels, y_pred_class) # or optionally tp / (tp + fn)\n",
    "precision = precision_score(test_labels, y_pred_class)\n",
    "accuracy = accuracy_score(test_labels, y_pred_class)\n",
    "f1= f1_score(test_labels, y_pred_class)\n",
    "f2 = fbeta_score(test_labels, y_pred_class, beta = 2)\n",
    "roc_auc = roc_auc_score(test_labels, preds)\n",
    "avg_precision = average_precision_score(test_labels, preds)\n",
    "loss = log_loss(test_labels, preds)\n",
    "\n",
    "\n",
    "print(\"false positive rate\", false_positive_rate)\n",
    "print(\"false negetive rate\", false_negative_rate)\n",
    "print(\"false negetive rate\", false_negative_rate)\n",
    "print(\"true negetive rate\", true_negative_rate)\n",
    "print(\"recall\", recall)\n",
    "print(\"precision\", precision)\n",
    "print(\"accuracy\", accuracy)\n",
    "print(\"f1\", f1)\n",
    "print(\"f2\", f2)\n",
    "print(\"roc_auc\", roc_auc)\n",
    "print(\"avg_precision\", avg_precision)\n",
    "print(\"loss\", loss)\n"
   ]
  },
  {
   "cell_type": "code",
   "execution_count": null,
   "metadata": {
    "colab": {
     "base_uri": "https://localhost:8080/",
     "height": 295
    },
    "id": "JNP7S-hzZXvI",
    "outputId": "eca3044f-5edc-447f-e97e-bcb0bf274677"
   },
   "outputs": [
    {
     "data": {
      "text/plain": [
       "<sklearn.metrics._plot.precision_recall_curve.PrecisionRecallDisplay at 0x7f8801798ed0>"
      ]
     },
     "execution_count": 17,
     "metadata": {},
     "output_type": "execute_result"
    },
    {
     "data": {
      "image/png": "[encoded data removed]",
      "text/plain": [
       "<Figure size 432x288 with 1 Axes>"
      ]
     },
     "metadata": {
      "needs_background": "light"
     },
     "output_type": "display_data"
    }
   ],
   "source": [
    "PrecisionRecallDisplay.from_predictions(test_labels, preds)\n"
   ]
  },
  {
   "cell_type": "code",
   "execution_count": null,
   "metadata": {
    "colab": {
     "base_uri": "https://localhost:8080/",
     "height": 295
    },
    "id": "T8asAxskYGJy",
    "outputId": "b5d14210-26a9-4d5e-8d59-ed8eae32aa8c"
   },
   "outputs": [
    {
     "data": {
      "text/plain": [
       "<sklearn.metrics._plot.roc_curve.RocCurveDisplay at 0x7f8801655cd0>"
      ]
     },
     "execution_count": 18,
     "metadata": {},
     "output_type": "execute_result"
    },
    {
     "data": {
      "image/png": "[encoded data removed]",
      "text/plain": [
       "<Figure size 432x288 with 1 Axes>"
      ]
     },
     "metadata": {
      "needs_background": "light"
     },
     "output_type": "display_data"
    }
   ],
   "source": [
    "RocCurveDisplay.from_predictions(test_labels, preds)\n"
   ]
  },
  {
   "cell_type": "markdown",
   "metadata": {
    "id": "vOFv1yV5b7Cl"
   },
   "source": [
    "# Deep Learning Model"
   ]
  },
  {
   "cell_type": "code",
   "execution_count": null,
   "metadata": {
    "colab": {
     "base_uri": "https://localhost:8080/"
    },
    "id": "FU9dChTicbFu",
    "outputId": "bd3eb820-0003-4b74-870b-941ff2b6c9cb"
   },
   "outputs": [
    {
     "name": "stderr",
     "output_type": "stream",
     "text": [
      "100%|██████████| 85518/85518 [00:00<00:00, 381713.04it/s]\n"
     ]
    }
   ],
   "source": [
    "MAX_NB_WORDS = 200000\n",
    "MAX_SEQUENCE_LENGTH = 30\n",
    "EMBEDDING_DIM = 300\n",
    "\n",
    "# WEIGHT_IMP = (1, 0)\n",
    "WEIGHT_IMP = (0.5, 1.3)\n",
    "\n",
    "tokenizer = tf.keras.preprocessing.text.Tokenizer(num_words=MAX_NB_WORDS)\n",
    "\n",
    "tokenizer.fit_on_texts(train_texts_1 + train_texts_2 + test_texts_1 + test_texts_2)\n",
    "\n",
    "sequences_1 = tokenizer.texts_to_sequences(train_texts_1)\n",
    "sequences_2 = tokenizer.texts_to_sequences(train_texts_2)\n",
    "test_sequences_1 = tokenizer.texts_to_sequences(test_texts_1)\n",
    "test_sequences_2 = tokenizer.texts_to_sequences(test_texts_2)\n",
    "\n",
    "train_data_1 = tf.keras.preprocessing.sequence.pad_sequences(sequences_1, maxlen=MAX_SEQUENCE_LENGTH)\n",
    "train_data_2 = tf.keras.preprocessing.sequence.pad_sequences(sequences_2, maxlen=MAX_SEQUENCE_LENGTH)\n",
    "train_labels = np.array(train_labels)\n",
    "test_data_1 = tf.keras.preprocessing.sequence.pad_sequences(test_sequences_1, maxlen=MAX_SEQUENCE_LENGTH)\n",
    "test_data_2 = tf.keras.preprocessing.sequence.pad_sequences(test_sequences_2, maxlen=MAX_SEQUENCE_LENGTH)\n",
    "test_labels = np.array(test_labels)\n",
    "\n",
    "nb_words = min(MAX_NB_WORDS, len(tokenizer.word_index))+1\n",
    "\n",
    "embedding_matrix = np.zeros((nb_words, EMBEDDING_DIM))\n",
    "for word, i in tqdm(tokenizer.word_index.items()):\n",
    "    if word in word2vec.vocab:\n",
    "        embedding_matrix[i] = word2vec.get_vector(word)\n",
    "\n",
    "train_data_1, train_data_2 = np.vstack((train_data_1,train_data_2)), np.vstack((train_data_2, train_data_1))\n",
    "train_labels = np.concatenate((train_labels, train_labels))\n",
    "\n",
    "train_data_1, cv_data_1, train_data_2, cv_data_2, train_labels, cv_labels = train_test_split(train_data_1, train_data_2, train_labels)\n",
    "weight_val = np.ones(len(cv_labels))"
   ]
  },
  {
   "cell_type": "code",
   "execution_count": null,
   "metadata": {
    "id": "fPzeXx2TcZfY"
   },
   "outputs": [],
   "source": [
    "def get_model():\n",
    "  embedding_layer = Embedding(\n",
    "    nb_words,\n",
    "    EMBEDDING_DIM,\n",
    "    weights=[embedding_matrix],\n",
    "    input_length=MAX_SEQUENCE_LENGTH,\n",
    "    trainable=False\n",
    "  )\n",
    "  lstm_layer = LSTM(175, dropout=0.2, recurrent_dropout=0.2)\n",
    "\n",
    "  sequence_1_input = Input(shape=(MAX_SEQUENCE_LENGTH,), dtype='int32')\n",
    "  embedded_sequences_1 = embedding_layer(sequence_1_input)\n",
    "  x1 = lstm_layer(embedded_sequences_1)\n",
    "\n",
    "  sequence_2_input = Input(shape=(MAX_SEQUENCE_LENGTH,), dtype='int32')\n",
    "  embedded_sequences_2 = embedding_layer(sequence_2_input)\n",
    "  x2 = lstm_layer(embedded_sequences_2)\n",
    "\n",
    "  merged = tf.keras.layers.concatenate([x1, x2])\n",
    "  merged = Dropout(0.2)(merged)\n",
    "  merged = BatchNormalization()(merged)\n",
    "\n",
    "  merged = Dense(120, activation='relu')(merged)\n",
    "  merged = Dropout(0.2)(merged)\n",
    "  merged = BatchNormalization()(merged)\n",
    "\n",
    "  preds = Dense(1, activation='sigmoid')(merged)\n",
    "\n",
    "  model = tf.keras.models.Model(\n",
    "    inputs=[sequence_1_input, sequence_2_input],\n",
    "    outputs=preds\n",
    "  )\n",
    "  model.compile(\n",
    "    loss='binary_crossentropy',\n",
    "    optimizer='nadam',\n",
    "    metrics=['acc']\n",
    "  )\n",
    "\n",
    "  return model"
   ]
  },
  {
   "cell_type": "code",
   "execution_count": null,
   "metadata": {
    "colab": {
     "base_uri": "https://localhost:8080/"
    },
    "id": "RNfnnpSk9d9l",
    "outputId": "edbe99ff-4f8b-495c-9871-91748f6b0a19"
   },
   "outputs": [
    {
     "name": "stdout",
     "output_type": "stream",
     "text": [
      "WARNING:tensorflow:Layer lstm will not use cuDNN kernels since it doesn't meet the criteria. It will use a generic GPU kernel as fallback when running on GPU.\n"
     ]
    }
   ],
   "source": [
    "LOAD_MODEL = True\n",
    "\n",
    "if LOAD_MODEL:\n",
    "  model = tf.keras.models.load_model(NOTEBOOK_HOME + \"/model\")\n",
    "\n",
    "else:\n",
    "  model = get_model()\n",
    "  model.summary()\n",
    "\n",
    "  early_stopping = EarlyStopping(monitor='val_loss', patience=5)\n",
    "\n",
    "  hist = model.fit(\n",
    "      [train_data_1, train_data_2], \n",
    "      train_labels,\n",
    "      validation_data=(\n",
    "          [cv_data_1, cv_data_2], cv_labels, weight_val\n",
    "      ),\n",
    "      epochs=200,\n",
    "      batch_size=2048,\n",
    "      shuffle=True,\n",
    "      callbacks=[early_stopping]\n",
    "  )\n",
    "\n",
    "  model.save(NOTEBOOK_HOME + \"/model\")"
   ]
  },
  {
   "cell_type": "markdown",
   "metadata": {},
   "source": [
    "Predicting with both (x1,x2) and (x2, x1) and averaging them to get final prediction"
   ]
  },
  {
   "cell_type": "code",
   "execution_count": null,
   "metadata": {
    "colab": {
     "base_uri": "https://localhost:8080/"
    },
    "id": "AG5RioxN9eqh",
    "outputId": "9c9c991e-70b7-40bc-855f-cdebe700c014"
   },
   "outputs": [
    {
     "name": "stdout",
     "output_type": "stream",
     "text": [
      "13/13 [==============================] - 4s 167ms/step\n",
      "13/13 [==============================] - 2s 174ms/step\n"
     ]
    }
   ],
   "source": [
    "preds = model.predict([test_data_1, test_data_2], batch_size=8192, verbose=1)\n",
    "preds += model.predict([test_data_2, test_data_1], batch_size=8192, verbose=1)\n",
    "preds /= 2"
   ]
  },
  {
   "cell_type": "code",
   "execution_count": null,
   "metadata": {
    "colab": {
     "base_uri": "https://localhost:8080/"
    },
    "id": "14iZZPFCAwo8",
    "outputId": "7570c61b-75d2-414f-9074-5195a227f70b"
   },
   "outputs": [
    {
     "data": {
      "text/plain": [
       "array([[9.9818230e-01],\n",
       "       [7.9233825e-02],\n",
       "       [5.1435945e-05],\n",
       "       [1.3830492e-01],\n",
       "       [2.5490251e-01],\n",
       "       [1.1034496e-03],\n",
       "       [1.8742429e-01],\n",
       "       [1.0114317e-02],\n",
       "       [8.4429574e-01],\n",
       "       [6.1898017e-01]], dtype=float32)"
      ]
     },
     "execution_count": 25,
     "metadata": {},
     "output_type": "execute_result"
    }
   ],
   "source": [
    "preds[:10]"
   ]
  },
  {
   "cell_type": "code",
   "execution_count": null,
   "metadata": {
    "colab": {
     "base_uri": "https://localhost:8080/",
     "height": 656
    },
    "id": "AU83Zcbzh6YS",
    "outputId": "84515e41-fe8c-433c-cda0-54242794f51f"
   },
   "outputs": [
    {
     "data": {
      "image/png": "[encoded data removed]",
      "text/plain": [
       "<Figure size 648x648 with 1 Axes>"
      ]
     },
     "metadata": {
      "needs_background": "light"
     },
     "output_type": "display_data"
    }
   ],
   "source": [
    "pp_matrix_from_data(test_labels, preds > 0.5)"
   ]
  },
  {
   "cell_type": "code",
   "execution_count": null,
   "metadata": {
    "colab": {
     "base_uri": "https://localhost:8080/"
    },
    "id": "tb2NgRoq1T0U",
    "outputId": "a90cbcc7-32a4-472e-fa53-efdb7d3d16ca"
   },
   "outputs": [
    {
     "name": "stdout",
     "output_type": "stream",
     "text": [
      "false positive rate 0.13491913958235202\n",
      "false negetive rate 0.2892301107484886\n",
      "false negetive rate 0.2892301107484886\n",
      "true negetive rate 0.865080860417648\n",
      "recall 0.7107698892515114\n",
      "precision 0.7556238091175383\n",
      "accuracy 0.8080081526040842\n",
      "f1 0.7325108553311738\n",
      "f2 0.7193095494636987\n",
      "roc_auc 0.8789198063499403\n",
      "avg_precision 0.81550464518762\n"
     ]
    }
   ],
   "source": [
    "y_pred_class = preds > 0.5\n",
    "tn, fp, fn, tp = confusion_matrix(test_labels, y_pred_class).ravel()\n",
    "false_positive_rate = fp / (fp + tn)\n",
    "false_negative_rate = fn / (tp + fn)\n",
    "true_negative_rate = tn / (tn + fp)\n",
    "recall = recall_score(test_labels, y_pred_class) # or optionally tp / (tp + fn)\n",
    "precision = precision_score(test_labels, y_pred_class)\n",
    "accuracy = accuracy_score(test_labels, y_pred_class)\n",
    "f1= f1_score(test_labels, y_pred_class)\n",
    "f2 = fbeta_score(test_labels, y_pred_class, beta = 2)\n",
    "roc_auc = roc_auc_score(test_labels, preds)\n",
    "avg_precision = average_precision_score(test_labels, preds)\n",
    "# loss = log_loss(test_labels, preds)\n",
    "\n",
    "\n",
    "print(\"false positive rate\", false_positive_rate)\n",
    "print(\"false negetive rate\", false_negative_rate)\n",
    "print(\"false negetive rate\", false_negative_rate)\n",
    "print(\"true negetive rate\", true_negative_rate)\n",
    "print(\"recall\", recall)\n",
    "print(\"precision\", precision)\n",
    "print(\"accuracy\", accuracy)\n",
    "print(\"f1\", f1)\n",
    "print(\"f2\", f2)\n",
    "print(\"roc_auc\", roc_auc)\n",
    "print(\"avg_precision\", avg_precision)\n",
    "# print(\"loss\", loss)\n"
   ]
  },
  {
   "cell_type": "code",
   "execution_count": null,
   "metadata": {
    "colab": {
     "base_uri": "https://localhost:8080/",
     "height": 295
    },
    "id": "2-LH9sh_1XHf",
    "outputId": "d7a4669e-2b91-488e-cd66-802ddbcec9b6"
   },
   "outputs": [
    {
     "data": {
      "text/plain": [
       "<sklearn.metrics._plot.precision_recall_curve.PrecisionRecallDisplay at 0x7f8801887e90>"
      ]
     },
     "execution_count": 28,
     "metadata": {},
     "output_type": "execute_result"
    },
    {
     "data": {
      "image/png": "[encoded data removed]",
      "text/plain": [
       "<Figure size 432x288 with 1 Axes>"
      ]
     },
     "metadata": {
      "needs_background": "light"
     },
     "output_type": "display_data"
    }
   ],
   "source": [
    "PrecisionRecallDisplay.from_predictions(test_labels, preds)\n"
   ]
  },
  {
   "cell_type": "code",
   "execution_count": null,
   "metadata": {
    "colab": {
     "base_uri": "https://localhost:8080/",
     "height": 295
    },
    "id": "_egKOamU1aHM",
    "outputId": "ca414392-cd25-4740-d13c-39ec0ef7a139"
   },
   "outputs": [
    {
     "data": {
      "text/plain": [
       "<sklearn.metrics._plot.roc_curve.RocCurveDisplay at 0x7f87760aacd0>"
      ]
     },
     "execution_count": 29,
     "metadata": {},
     "output_type": "execute_result"
    },
    {
     "data": {
      "image/png": "[encoded data removed]",
      "text/plain": [
       "<Figure size 432x288 with 1 Axes>"
      ]
     },
     "metadata": {
      "needs_background": "light"
     },
     "output_type": "display_data"
    }
   ],
   "source": [
    "RocCurveDisplay.from_predictions(test_labels, preds)\n"
   ]
  },
  {
   "cell_type": "code",
   "execution_count": null,
   "metadata": {
    "colab": {
     "base_uri": "https://localhost:8080/"
    },
    "id": "x0EPdKn01dxs",
    "outputId": "41c2f89d-221a-4751-a877-fe7b0515458d"
   },
   "outputs": [
    {
     "data": {
      "text/plain": [
       "array([[9.9818230e-01],\n",
       "       [7.9233825e-02],\n",
       "       [5.1435945e-05],\n",
       "       ...,\n",
       "       [9.3744922e-01],\n",
       "       [9.2733371e-01],\n",
       "       [2.9404040e-02]], dtype=float32)"
      ]
     },
     "execution_count": 30,
     "metadata": {},
     "output_type": "execute_result"
    }
   ],
   "source": [
    "preds"
   ]
  },
  {
   "cell_type": "code",
   "execution_count": null,
   "metadata": {
    "colab": {
     "base_uri": "https://localhost:8080/",
     "height": 423
    },
    "id": "pTW-t2q6vONd",
    "outputId": "5acd2db2-e3d3-4021-e21a-80150d068799"
   },
   "outputs": [
    {
     "data": {
      "text/html": [
       "\n",
       "  <div id=\"df-a5fab922-0746-4906-9f17-cf2b24b54313\">\n",
       "    <div class=\"colab-df-container\">\n",
       "      <div>\n",
       "<style scoped>\n",
       "    .dataframe tbody tr th:only-of-type {\n",
       "        vertical-align: middle;\n",
       "    }\n",
       "\n",
       "    .dataframe tbody tr th {\n",
       "        vertical-align: top;\n",
       "    }\n",
       "\n",
       "    .dataframe thead th {\n",
       "        text-align: right;\n",
       "    }\n",
       "</style>\n",
       "<table border=\"1\" class=\"dataframe\">\n",
       "  <thead>\n",
       "    <tr style=\"text-align: right;\">\n",
       "      <th></th>\n",
       "      <th>text1</th>\n",
       "      <th>text2</th>\n",
       "      <th>label</th>\n",
       "      <th>pred</th>\n",
       "    </tr>\n",
       "  </thead>\n",
       "  <tbody>\n",
       "    <tr>\n",
       "      <th>4</th>\n",
       "      <td>why should i jailbreak my iphone</td>\n",
       "      <td>why should i jailbreak my iphone 4</td>\n",
       "      <td>1</td>\n",
       "      <td>0.254903</td>\n",
       "    </tr>\n",
       "    <tr>\n",
       "      <th>11</th>\n",
       "      <td>is india really a nuclear triad</td>\n",
       "      <td>in spite of having all the infrastructure and ...</td>\n",
       "      <td>0</td>\n",
       "      <td>0.612677</td>\n",
       "    </tr>\n",
       "    <tr>\n",
       "      <th>14</th>\n",
       "      <td>which is better between xbox or ps4</td>\n",
       "      <td>specifications - wise which is the better cons...</td>\n",
       "      <td>1</td>\n",
       "      <td>0.124185</td>\n",
       "    </tr>\n",
       "    <tr>\n",
       "      <th>20</th>\n",
       "      <td>how do you study statistical sciences</td>\n",
       "      <td>how do you study the statistical sciences</td>\n",
       "      <td>1</td>\n",
       "      <td>0.403408</td>\n",
       "    </tr>\n",
       "    <tr>\n",
       "      <th>23</th>\n",
       "      <td>is it wrong to fall in love with your best fri...</td>\n",
       "      <td>is it okay to fall in love with your best girl...</td>\n",
       "      <td>0</td>\n",
       "      <td>0.708565</td>\n",
       "    </tr>\n",
       "    <tr>\n",
       "      <th>...</th>\n",
       "      <td>...</td>\n",
       "      <td>...</td>\n",
       "      <td>...</td>\n",
       "      <td>...</td>\n",
       "    </tr>\n",
       "    <tr>\n",
       "      <th>101059</th>\n",
       "      <td>how did fivethirtyeight com get its prediction...</td>\n",
       "      <td>how did the 2016 us election polls get it so w...</td>\n",
       "      <td>1</td>\n",
       "      <td>0.469695</td>\n",
       "    </tr>\n",
       "    <tr>\n",
       "      <th>101062</th>\n",
       "      <td>how do i learn apache spark</td>\n",
       "      <td>what is the best way to learn apache spark fro...</td>\n",
       "      <td>0</td>\n",
       "      <td>0.830989</td>\n",
       "    </tr>\n",
       "    <tr>\n",
       "      <th>101063</th>\n",
       "      <td>is ezetimibe good or bad</td>\n",
       "      <td>is masturbation good or bad</td>\n",
       "      <td>0</td>\n",
       "      <td>0.735686</td>\n",
       "    </tr>\n",
       "    <tr>\n",
       "      <th>101066</th>\n",
       "      <td>what is the difference between earthing and gr...</td>\n",
       "      <td>what is difference between earthing and ground...</td>\n",
       "      <td>1</td>\n",
       "      <td>0.349317</td>\n",
       "    </tr>\n",
       "    <tr>\n",
       "      <th>101067</th>\n",
       "      <td>why do so many people dislike nickelback</td>\n",
       "      <td>why do not people like nickelback</td>\n",
       "      <td>1</td>\n",
       "      <td>0.490337</td>\n",
       "    </tr>\n",
       "  </tbody>\n",
       "</table>\n",
       "<p>19405 rows × 4 columns</p>\n",
       "</div>\n",
       "      <button class=\"colab-df-convert\" onclick=\"convertToInteractive('df-a5fab922-0746-4906-9f17-cf2b24b54313')\"\n",
       "              title=\"Convert this dataframe to an interactive table.\"\n",
       "              style=\"display:none;\">\n",
       "        \n",
       "  <svg xmlns=\"http://www.w3.org/2000/svg\" height=\"24px\"viewBox=\"0 0 24 24\"\n",
       "       width=\"24px\">\n",
       "    <path d=\"M0 0h24v24H0V0z\" fill=\"none\"/>\n",
       "    <path d=\"M18.56 5.44l.94 2.06.94-2.06 2.06-.94-2.06-.94-.94-2.06-.94 2.06-2.06.94zm-11 1L8.5 8.5l.94-2.06 2.06-.94-2.06-.94L8.5 2.5l-.94 2.06-2.06.94zm10 10l.94 2.06.94-2.06 2.06-.94-2.06-.94-.94-2.06-.94 2.06-2.06.94z\"/><path d=\"M17.41 7.96l-1.37-1.37c-.4-.4-.92-.59-1.43-.59-.52 0-1.04.2-1.43.59L10.3 9.45l-7.72 7.72c-.78.78-.78 2.05 0 2.83L4 21.41c.39.39.9.59 1.41.59.51 0 1.02-.2 1.41-.59l7.78-7.78 2.81-2.81c.8-.78.8-2.07 0-2.86zM5.41 20L4 18.59l7.72-7.72 1.47 1.35L5.41 20z\"/>\n",
       "  </svg>\n",
       "      </button>\n",
       "      \n",
       "  <style>\n",
       "    .colab-df-container {\n",
       "      display:flex;\n",
       "      flex-wrap:wrap;\n",
       "      gap: 12px;\n",
       "    }\n",
       "\n",
       "    .colab-df-convert {\n",
       "      background-color: #E8F0FE;\n",
       "      border: none;\n",
       "      border-radius: 50%;\n",
       "      cursor: pointer;\n",
       "      display: none;\n",
       "      fill: #1967D2;\n",
       "      height: 32px;\n",
       "      padding: 0 0 0 0;\n",
       "      width: 32px;\n",
       "    }\n",
       "\n",
       "    .colab-df-convert:hover {\n",
       "      background-color: #E2EBFA;\n",
       "      box-shadow: 0px 1px 2px rgba(60, 64, 67, 0.3), 0px 1px 3px 1px rgba(60, 64, 67, 0.15);\n",
       "      fill: #174EA6;\n",
       "    }\n",
       "\n",
       "    [theme=dark] .colab-df-convert {\n",
       "      background-color: #3B4455;\n",
       "      fill: #D2E3FC;\n",
       "    }\n",
       "\n",
       "    [theme=dark] .colab-df-convert:hover {\n",
       "      background-color: #434B5C;\n",
       "      box-shadow: 0px 1px 3px 1px rgba(0, 0, 0, 0.15);\n",
       "      filter: drop-shadow(0px 1px 2px rgba(0, 0, 0, 0.3));\n",
       "      fill: #FFFFFF;\n",
       "    }\n",
       "  </style>\n",
       "\n",
       "      <script>\n",
       "        const buttonEl =\n",
       "          document.querySelector('#df-a5fab922-0746-4906-9f17-cf2b24b54313 button.colab-df-convert');\n",
       "        buttonEl.style.display =\n",
       "          google.colab.kernel.accessAllowed ? 'block' : 'none';\n",
       "\n",
       "        async function convertToInteractive(key) {\n",
       "          const element = document.querySelector('#df-a5fab922-0746-4906-9f17-cf2b24b54313');\n",
       "          const dataTable =\n",
       "            await google.colab.kernel.invokeFunction('convertToInteractive',\n",
       "                                                     [key], {});\n",
       "          if (!dataTable) return;\n",
       "\n",
       "          const docLinkHtml = 'Like what you see? Visit the ' +\n",
       "            '<a target=\"_blank\" href=https://colab.research.google.com/notebooks/data_table.ipynb>data table notebook</a>'\n",
       "            + ' to learn more about interactive tables.';\n",
       "          element.innerHTML = '';\n",
       "          dataTable['output_type'] = 'display_data';\n",
       "          await google.colab.output.renderOutput(dataTable, element);\n",
       "          const docLink = document.createElement('div');\n",
       "          docLink.innerHTML = docLinkHtml;\n",
       "          element.appendChild(docLink);\n",
       "        }\n",
       "      </script>\n",
       "    </div>\n",
       "  </div>\n",
       "  "
      ],
      "text/plain": [
       "                                                    text1  \\\n",
       "4                       why should i jailbreak my iphone    \n",
       "11                       is india really a nuclear triad    \n",
       "14                   which is better between xbox or ps4    \n",
       "20                 how do you study statistical sciences    \n",
       "23      is it wrong to fall in love with your best fri...   \n",
       "...                                                   ...   \n",
       "101059  how did fivethirtyeight com get its prediction...   \n",
       "101062                       how do i learn apache spark    \n",
       "101063                          is ezetimibe good or bad    \n",
       "101066  what is the difference between earthing and gr...   \n",
       "101067          why do so many people dislike nickelback    \n",
       "\n",
       "                                                    text2  label      pred  \n",
       "4                     why should i jailbreak my iphone 4       1  0.254903  \n",
       "11      in spite of having all the infrastructure and ...      0  0.612677  \n",
       "14      specifications - wise which is the better cons...      1  0.124185  \n",
       "20             how do you study the statistical sciences       1  0.403408  \n",
       "23      is it okay to fall in love with your best girl...      0  0.708565  \n",
       "...                                                   ...    ...       ...  \n",
       "101059  how did the 2016 us election polls get it so w...      1  0.469695  \n",
       "101062  what is the best way to learn apache spark fro...      0  0.830989  \n",
       "101063                       is masturbation good or bad       0  0.735686  \n",
       "101066  what is difference between earthing and ground...      1  0.349317  \n",
       "101067                 why do not people like nickelback       1  0.490337  \n",
       "\n",
       "[19405 rows x 4 columns]"
      ]
     },
     "execution_count": 48,
     "metadata": {},
     "output_type": "execute_result"
    }
   ],
   "source": [
    "preds_df = pd.DataFrame({\"text1\": test_texts_1, \"text2\": test_texts_2, \"label\": test_labels, \"pred\": preds.squeeze()})\n",
    "\n",
    "wrong_idx = np.where(preds.round().squeeze().astype(int) != test_labels)[0]\n",
    "\n",
    "preds_wrong_df = preds_df.iloc[wrong_idx]\n",
    "\n",
    "preds_wrong_df.to_csv(NOTEBOOK_HOME + \"/wrong_lstm_preds.csv\")\n",
    "preds_wrong_df"
   ]
  }
 ],
 "metadata": {
  "accelerator": "GPU",
  "colab": {
   "collapsed_sections": [],
   "name": "lstm_and_word2vec.ipynb",
   "provenance": []
  },
  "kernelspec": {
   "display_name": "Python 3 (ipykernel)",
   "language": "python",
   "name": "python3"
  },
  "language_info": {
   "codemirror_mode": {
    "name": "ipython",
    "version": 3
   },
   "file_extension": ".py",
   "mimetype": "text/x-python",
   "name": "python",
   "nbconvert_exporter": "python",
   "pygments_lexer": "ipython3",
   "version": "3.9.12"
  }
 },
 "nbformat": 4,
 "nbformat_minor": 4
}
